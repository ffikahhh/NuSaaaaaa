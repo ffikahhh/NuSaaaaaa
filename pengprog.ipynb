{
 "cells": [
  {
   "cell_type": "markdown",
   "metadata": {},
   "source": [
    "## NAMA     : NURUL SAFIKA\n",
    "## NIM      : H061241028\n"
   ]
  },
  {
   "cell_type": "markdown",
   "metadata": {},
   "source": [
    "## Tugas Pengantar Pemrograman (Kelas A)"
   ]
  },
  {
   "cell_type": "markdown",
   "metadata": {},
   "source": [
    "**Soal 1**: Seorang pelanggan membeli buah di pasar. Jika 3 angka terakhir NIM Anda genap, dia mendapatkan diskon 10%. Jika ganjil, diskon 5%. Buat program untuk menghitung total harga.\n",
    "\n",
    "**Soal 2**: Seorang siswa ingin menentukan apakah dia lulus ujian. Jika 3 angka terakhir NIM Anda > 500, syarat kelulusan adalah nilai >= 80. Jika tidak, syaratnya nilai >= 75. Buat program untuk menentukan kelulusannya.\n",
    "\n",
    "**Soal 3**: Sebuah toko online memberikan gratis ongkir jika total belanja di atas Rp 200.000 ditambah 3 angka terakhir NIM Anda. Buat program untuk menentukan apakah pelanggan mendapatkan gratis ongkir.\n",
    "\n",
    "**Soal 4**: Seorang karyawan mendapatkan bonus jika bekerja lebih dari 40 jam. Bonusnya adalah 10% dari gaji ditambah 3 angka terakhir NIM Anda. Buat program untuk menghitung gaji karyawan.\n",
    "\n",
    "**Soal 5**: Sebuah restoran mengenakan biaya tambahan 5% untuk pajak jika total pesanan di atas Rp 50.000 dikurangi 3 angka terakhir NIM Anda. Buat program untuk menghitung total biaya.\n",
    "\n",
    "**Soal 6**: Seorang pelari ingin menentukan apakah dia berhasil memenuhi target latihan. Jika jarak lari > (3 angka terakhir NIM Anda), dia berhasil. Buat program untuk menentukan hasil latihannya.\n",
    "\n",
    "**Soal 7**: Sebuah bioskop memberikan tiket gratis untuk anak di bawah 5 tahun jika 3 angka terakhir NIM Anda genap. Jika ganjil, diskon 50%. Buat program untuk menentukan harga tiket.\n",
    "\n",
    "**Soal 8**: Sebuah toko buku memberikan diskon 20% jika pelanggan membeli lebih dari 5 buku dan 3 angka terakhir NIM Anda > 300. Jika tidak, diskon 10%. Buat program untuk menghitung total harga.\n",
    "\n",
    "**Soal 9**: Seorang mahasiswa ingin menentukan apakah suatu bilangan genap atau ganjil. Jika 3 angka terakhir NIM Anda genap, cetak \"Genap\". Jika ganjil, cetak \"Ganjil\".\n",
    "\n",
    "**Soal 10**: Sebuah aplikasi menentukan apakah suatu tahun adalah tahun kabisat. Jika 3 angka terakhir NIM Anda genap, cetak \"Kabisat\". Jika ganjil, cetak \"Bukan Kabisat\".\n",
    "\n",
    "**Soal 11**: Seorang pelanggan ingin mencetak daftar belanjaannya sebanyak (3 angka terakhir NIM Anda % 10) kali. Buat program untuk mencetak daftar belanja tersebut.\n",
    "\n",
    "**Soal 12**: Seorang guru ingin mencetak angka dari 1 sampai 100, tetapi hanya bilangan kelipatan (3 angka terakhir NIM Anda % 5). Buat program untuk mencetak bilangan tersebut.\n",
    "\n",
    "**Soal 13**: Seorang penjual ingin mencetak tabel perkalian (3 angka terakhir NIM Anda % 9). Buat program untuk mencetak tabel tersebut.\n",
    "\n",
    "**Soal 14**: Seorang pelukis ingin mencetak pola bintang segitiga siku-siku dengan tinggi (3 angka terakhir NIM Anda % 7). Buat program untuk mencetak pola tersebut.\n",
    "\n",
    "**Soal 15**: Seorang peneliti ingin mencetak bilangan prima dari 1 sampai (3 angka terakhir NIM Anda). Buat program untuk mencetak bilangan prima tersebut.\n",
    "\n",
    "**Soal 16**: Seorang programmer ingin mencetak deret Fibonacci sebanyak (3 angka terakhir NIM Anda % 10) bilangan. Buat program untuk mencetak deret tersebut.\n",
    "\n",
    "**Soal 17**: Seorang petani ingin mencetak bilangan kelipatan (3 angka terakhir NIM Anda % 6) dari 1 sampai 100. Buat program untuk mencetak bilangan tersebut.\n",
    "\n",
    "**Soal 18**: Seorang siswa ingin mencetak bilangan ganjil dari 1 sampai (3 angka terakhir NIM Anda). Buat program untuk mencetak bilangan tersebut.\n",
    "\n",
    "**Soal 19**: Seorang penjual ingin mencetak faktorial dari (3 angka terakhir NIM Anda % 8). Buat program untuk mencetak faktorial tersebut.\n",
    "\n",
    "**Soal 20**: Seorang pelanggan ingin mencetak \"Terima Kasih\" sebanyak (3 angka terakhir NIM Anda % 5) kali. Buat program untuk mencetak pesan tersebut."
   ]
  },
  {
   "cell_type": "markdown",
   "metadata": {},
   "source": [
    "### JAWABAN "
   ]
  },
  {
   "cell_type": "markdown",
   "metadata": {},
   "source": [
    "## 1. HITUNG TOTAL HARGA\n"
   ]
  },
  {
   "cell_type": "code",
   "execution_count": 1,
   "metadata": {},
   "outputs": [
    {
     "name": "stdout",
     "output_type": "stream",
     "text": [
      "Diskon yang didapatkan: 10.0%\n",
      "Total harga setelah diskon: Rp322200.00\n"
     ]
    }
   ],
   "source": [
    "def hitung_total_harga(harga_awal, nim):\n",
    "    # Mengambil 3 angka terakhir dari NIM\n",
    "    tiga_angka_terakhir = int(str(nim)[-3:])\n",
    "    \n",
    "    # Menentukan diskon berdasarkan angka terakhir NIM\n",
    "    if tiga_angka_terakhir % 2 == 0:\n",
    "        diskon = 0.10  # 10% jika genap\n",
    "    else:\n",
    "        diskon = 0.05  # 5% jika ganjil\n",
    "    \n",
    "    # Menghitung harga setelah diskon\n",
    "    total_harga = harga_awal - (harga_awal * diskon)\n",
    "    return total_harga, diskon * 100\n",
    "\n",
    "# Input harga dan NIM\n",
    "harga_awal = float(input(\"Masukkan total harga buah: \"))\n",
    "nim = input(\"Masukkan NIM Anda: \")\n",
    "\n",
    "# Menghitung total harga setelah diskon\n",
    "total_harga, persen_diskon = hitung_total_harga(harga_awal, nim)\n",
    "\n",
    "# Menampilkan hasil\n",
    "print(f\"Diskon yang didapatkan: {persen_diskon}%\")\n",
    "print(f\"Total harga setelah diskon: Rp{total_harga:.2f}\")\n"
   ]
  },
  {
   "cell_type": "markdown",
   "metadata": {},
   "source": [
    "## 2.CEK KELULUSAN"
   ]
  },
  {
   "cell_type": "code",
   "execution_count": 2,
   "metadata": {},
   "outputs": [
    {
     "name": "stdout",
     "output_type": "stream",
     "text": [
      "Status kelulusan: LULUS\n"
     ]
    }
   ],
   "source": [
    "def cek_kelulusan(nilai, nim):\n",
    "    # Mengambil 3 angka terakhir dari NIM\n",
    "    tiga_angka_terakhir = int(str(nim)[-3:])\n",
    "    \n",
    "    # Menentukan syarat kelulusan\n",
    "    if tiga_angka_terakhir > 500:\n",
    "        syarat_kelulusan = 80\n",
    "    else:\n",
    "        syarat_kelulusan = 75\n",
    "    \n",
    "    # Menentukan status kelulusan\n",
    "    if nilai >= syarat_kelulusan:\n",
    "        return \"LULUS\"\n",
    "    else:\n",
    "        return \"TIDAK LULUS\"\n",
    "\n",
    "# Input nilai dan NIM\n",
    "nilai = float(input(\"Masukkan nilai ujian: \"))\n",
    "nim = input(\"Masukkan NIM Anda: \")\n",
    "\n",
    "# Mengecek kelulusan\n",
    "status = cek_kelulusan(nilai, nim)\n",
    "\n",
    "# Menampilkan hasil\n",
    "print(f\"Status kelulusan: {status}\")\n"
   ]
  },
  {
   "cell_type": "markdown",
   "metadata": {},
   "source": [
    "## 3. CEK GRATIS ONGKIR"
   ]
  },
  {
   "cell_type": "code",
   "execution_count": 3,
   "metadata": {},
   "outputs": [
    {
     "name": "stdout",
     "output_type": "stream",
     "text": [
      "Selamat! Anda mendapatkan gratis ongkir.\n"
     ]
    }
   ],
   "source": [
    "def cek_gratis_ongkir(total_belanja, nim):\n",
    "    # Mengambil 3 angka terakhir dari NIM\n",
    "    tiga_angka_terakhir = int(str(nim)[-3:])\n",
    "    \n",
    "    # Menentukan batas minimal untuk gratis ongkir\n",
    "    batas_gratis_ongkir = 200000 + tiga_angka_terakhir\n",
    "    \n",
    "    # Mengecek apakah pelanggan mendapatkan gratis ongkir\n",
    "    if total_belanja > batas_gratis_ongkir:\n",
    "        return True, batas_gratis_ongkir\n",
    "    else:\n",
    "        return False, batas_gratis_ongkir\n",
    "\n",
    "# Input total belanja dan NIM\n",
    "total_belanja = float(input(\"Masukkan total belanja: \"))\n",
    "nim = input(\"Masukkan NIM Anda: \")\n",
    "\n",
    "# Mengecek gratis ongkir\n",
    "gratis_ongkir, batas = cek_gratis_ongkir(total_belanja, nim)\n",
    "\n",
    "# Menampilkan hasil\n",
    "if gratis_ongkir:\n",
    "    print(\"Selamat! Anda mendapatkan gratis ongkir.\")\n",
    "else:\n",
    "    print(f\"Anda belum mendapatkan gratis ongkir. Minimal belanja untuk gratis ongkir: Rp{batas}\")\n"
   ]
  },
  {
   "cell_type": "markdown",
   "metadata": {},
   "source": [
    "## 4. HITUNG GAJI"
   ]
  },
  {
   "cell_type": "code",
   "execution_count": 4,
   "metadata": {},
   "outputs": [
    {
     "name": "stdout",
     "output_type": "stream",
     "text": [
      "Bonus yang didapatkan: Rp0.00\n",
      "Total gaji setelah bonus: Rp8000000.00\n"
     ]
    }
   ],
   "source": [
    "def hitung_gaji(gaji_pokok, jam_kerja, nim):\n",
    "    # Mengambil 3 angka terakhir dari NIM\n",
    "    tiga_angka_terakhir = int(str(nim)[-3:])\n",
    "    \n",
    "    # Menentukan bonus jika jam kerja lebih dari 40\n",
    "    if jam_kerja > 40:\n",
    "        bonus = (0.10 * gaji_pokok) + tiga_angka_terakhir\n",
    "    else:\n",
    "        bonus = 0\n",
    "    \n",
    "    # Menghitung total gaji\n",
    "    total_gaji = gaji_pokok + bonus\n",
    "    return total_gaji, bonus\n",
    "\n",
    "# Input gaji pokok, jam kerja, dan NIM\n",
    "gaji_pokok = float(input(\"Masukkan gaji pokok: \"))\n",
    "jam_kerja = int(input(\"Masukkan jumlah jam kerja: \"))\n",
    "nim = input(\"Masukkan NIM Anda: \")\n",
    "\n",
    "# Menghitung total gaji\n",
    "total_gaji, bonus = hitung_gaji(gaji_pokok, jam_kerja, nim)\n",
    "\n",
    "# Menampilkan hasil\n",
    "print(f\"Bonus yang didapatkan: Rp{bonus:.2f}\")\n",
    "print(f\"Total gaji setelah bonus: Rp{total_gaji:.2f}\")\n"
   ]
  },
  {
   "cell_type": "markdown",
   "metadata": {},
   "source": [
    "## 5. HITUNG TOTAL BIAYA PAJAK\n"
   ]
  },
  {
   "cell_type": "code",
   "execution_count": 5,
   "metadata": {},
   "outputs": [
    {
     "name": "stdout",
     "output_type": "stream",
     "text": [
      "Tidak dikenakan pajak.\n",
      "Total biaya yang harus dibayar: Rp45.00\n"
     ]
    }
   ],
   "source": [
    "def hitung_total_biaya(total_pesanan, nim):\n",
    "    # Mengambil 3 angka terakhir dari NIM\n",
    "    tiga_angka_terakhir = int(str(nim)[-3:])\n",
    "    \n",
    "    # Menentukan batas minimum untuk pajak\n",
    "    batas_pajak = 50000 - tiga_angka_terakhir\n",
    "    \n",
    "    # Menentukan apakah pajak dikenakan\n",
    "    if total_pesanan > batas_pajak:\n",
    "        pajak = 0.05 * total_pesanan\n",
    "    else:\n",
    "        pajak = 0\n",
    "    \n",
    "    # Menghitung total biaya setelah pajak\n",
    "    total_biaya = total_pesanan + pajak\n",
    "    return total_biaya, pajak, batas_pajak\n",
    "\n",
    "# Input total pesanan dan NIM\n",
    "total_pesanan = float(input(\"Masukkan total pesanan: \"))\n",
    "nim = input(\"Masukkan NIM Anda: \")\n",
    "\n",
    "# Menghitung total biaya\n",
    "total_biaya, pajak, batas = hitung_total_biaya(total_pesanan, nim)\n",
    "\n",
    "# Menampilkan hasil\n",
    "if pajak > 0:\n",
    "    print(f\"Pajak dikenakan sebesar Rp{pajak:.2f}\")\n",
    "else:\n",
    "    print(\"Tidak dikenakan pajak.\")\n",
    "print(f\"Total biaya yang harus dibayar: Rp{total_biaya:.2f}\")\n"
   ]
  },
  {
   "cell_type": "markdown",
   "metadata": {},
   "source": [
    "## 6. CEK TARGET LARI"
   ]
  },
  {
   "cell_type": "code",
   "execution_count": 6,
   "metadata": {},
   "outputs": [
    {
     "name": "stdout",
     "output_type": "stream",
     "text": [
      "Belum mencapai target. Minimal jarak yang harus ditempuh: 28 km\n"
     ]
    }
   ],
   "source": [
    "def cek_target_lari(jarak_lari, nim):\n",
    "    # Mengambil 3 angka terakhir dari NIM\n",
    "    target_jarak = int(str(nim)[-3:])\n",
    "    \n",
    "    # Menentukan apakah pelari memenuhi target\n",
    "    if jarak_lari > target_jarak:\n",
    "        return \"Berhasil memenuhi target!\"\n",
    "    else:\n",
    "        return f\"Belum mencapai target. Minimal jarak yang harus ditempuh: {target_jarak} km\"\n",
    "\n",
    "# Input jarak lari dan NIM\n",
    "jarak_lari = float(input(\"Masukkan jarak lari (km): \"))\n",
    "nim = input(\"Masukkan NIM Anda: \")\n",
    "\n",
    "# Mengecek hasil latihan\n",
    "hasil = cek_target_lari(jarak_lari, nim)\n",
    "\n",
    "# Menampilkan hasil\n",
    "print(hasil)\n"
   ]
  },
  {
   "cell_type": "markdown",
   "metadata": {},
   "source": [
    "## 7. MENENTUKAN HARGA TIKET"
   ]
  },
  {
   "cell_type": "code",
   "execution_count": 7,
   "metadata": {},
   "outputs": [
    {
     "name": "stdout",
     "output_type": "stream",
     "text": [
      "Harga tiket normal.\n",
      "Total harga tiket: Rp3000000.00\n"
     ]
    }
   ],
   "source": [
    "def hitung_harga_tiket(harga_tiket, umur, nim):\n",
    "    # Mengambil 3 angka terakhir dari NIM\n",
    "    tiga_angka_terakhir = int(str(nim)[-3:])\n",
    "    \n",
    "    # Menentukan apakah tiket gratis atau diskon 50%\n",
    "    if umur < 5:\n",
    "        if tiga_angka_terakhir % 2 == 0:\n",
    "            harga_akhir = 0  # Gratis jika genap\n",
    "            keterangan = \"Tiket gratis untuk anak di bawah 5 tahun.\"\n",
    "        else:\n",
    "            harga_akhir = harga_tiket * 0.5  # Diskon 50% jika ganjil\n",
    "            keterangan = \"Diskon 50% untuk anak di bawah 5 tahun.\"\n",
    "    else:\n",
    "        harga_akhir = harga_tiket  # Harga normal\n",
    "        keterangan = \"Harga tiket normal.\"\n",
    "    \n",
    "    return harga_akhir, keterangan\n",
    "\n",
    "# Input harga tiket, umur, dan NIM\n",
    "harga_tiket = float(input(\"Masukkan harga tiket: \"))\n",
    "umur = int(input(\"Masukkan umur penonton: \"))\n",
    "nim = input(\"Masukkan NIM Anda: \")\n",
    "\n",
    "# Menghitung harga tiket setelah diskon\n",
    "harga_akhir, keterangan = hitung_harga_tiket(harga_tiket, umur, nim)\n",
    "\n",
    "# Menampilkan hasil\n",
    "print(keterangan)\n",
    "print(f\"Total harga tiket: Rp{harga_akhir:.2f}\")\n"
   ]
  },
  {
   "cell_type": "markdown",
   "metadata": {},
   "source": [
    "## 8.HITUNG DISKON BUKU\n"
   ]
  },
  {
   "cell_type": "code",
   "execution_count": 8,
   "metadata": {},
   "outputs": [
    {
     "name": "stdout",
     "output_type": "stream",
     "text": [
      "Diskon yang diberikan: 10.0%\n",
      "Total diskon: Rp29700.00\n",
      "Total harga setelah diskon: Rp267300.00\n"
     ]
    }
   ],
   "source": [
    "def hitung_total_harga(jumlah_buku, harga_per_buku, nim):\n",
    "    # Mengambil 3 angka terakhir dari NIM\n",
    "    tiga_angka_terakhir = int(str(nim)[-3:])\n",
    "    \n",
    "    # Menentukan diskon\n",
    "    if jumlah_buku > 5 and tiga_angka_terakhir > 300:\n",
    "        diskon = 0.20  # Diskon 20%\n",
    "    else:\n",
    "        diskon = 0.10  # Diskon 10%\n",
    "    \n",
    "    # Menghitung total harga setelah diskon\n",
    "    total_harga_awal = jumlah_buku * harga_per_buku\n",
    "    total_diskon = total_harga_awal * diskon\n",
    "    total_harga = total_harga_awal - total_diskon\n",
    "    \n",
    "    return total_harga, total_diskon, diskon * 100\n",
    "\n",
    "# Input jumlah buku, harga per buku, dan NIM\n",
    "jumlah_buku = int(input(\"Masukkan jumlah buku yang dibeli: \"))\n",
    "harga_per_buku = float(input(\"Masukkan harga per buku: \"))\n",
    "nim = input(\"Masukkan NIM Anda: \")\n",
    "\n",
    "# Menghitung total harga\n",
    "total_harga, total_diskon, persen_diskon = hitung_total_harga(jumlah_buku, harga_per_buku, nim)\n",
    "\n",
    "# Menampilkan hasil\n",
    "print(f\"Diskon yang diberikan: {persen_diskon}%\")\n",
    "print(f\"Total diskon: Rp{total_diskon:.2f}\")\n",
    "print(f\"Total harga setelah diskon: Rp{total_harga:.2f}\")\n"
   ]
  },
  {
   "cell_type": "markdown",
   "metadata": {},
   "source": [
    "## 9. CEK GENAP/GANJIL"
   ]
  },
  {
   "cell_type": "code",
   "execution_count": 9,
   "metadata": {},
   "outputs": [
    {
     "name": "stdout",
     "output_type": "stream",
     "text": [
      "3 angka terakhir NIM Anda adalah Genap.\n"
     ]
    }
   ],
   "source": [
    "def cek_genap_ganjil(nim):\n",
    "    # Mengambil 3 angka terakhir dari NIM\n",
    "    tiga_angka_terakhir = int(str(nim)[-3:])\n",
    "    \n",
    "    # Menentukan apakah bilangan genap atau ganjil\n",
    "    if tiga_angka_terakhir % 2 == 0:\n",
    "        return \"Genap\"\n",
    "    else:\n",
    "        return \"Ganjil\"\n",
    "\n",
    "# Input NIM\n",
    "nim = input(\"Masukkan NIM Anda: \")\n",
    "\n",
    "# Menentukan hasil\n",
    "hasil = cek_genap_ganjil(nim)\n",
    "\n",
    "# Menampilkan hasil\n",
    "print(f\"3 angka terakhir NIM Anda adalah {hasil}.\")\n"
   ]
  },
  {
   "cell_type": "markdown",
   "metadata": {},
   "source": [
    "## 10. CEK TAHUN KABISAT"
   ]
  },
  {
   "cell_type": "code",
   "execution_count": 10,
   "metadata": {},
   "outputs": [
    {
     "name": "stdout",
     "output_type": "stream",
     "text": [
      "Tahun berdasarkan 3 angka terakhir NIM Anda adalah Kabisat.\n"
     ]
    }
   ],
   "source": [
    "def cek_tahun_kabisat(nim):\n",
    "    # Mengambil 3 angka terakhir dari NIM\n",
    "    tiga_angka_terakhir = int(str(nim)[-3:])\n",
    "    \n",
    "    # Menentukan apakah tahun kabisat atau bukan\n",
    "    if tiga_angka_terakhir % 2 == 0:\n",
    "        return \"Kabisat\"\n",
    "    else:\n",
    "        return \"Bukan Kabisat\"\n",
    "\n",
    "# Input NIM\n",
    "nim = input(\"Masukkan NIM Anda: \")\n",
    "\n",
    "# Menentukan hasil\n",
    "hasil = cek_tahun_kabisat(nim)\n",
    "\n",
    "# Menampilkan hasil\n",
    "print(f\"Tahun berdasarkan 3 angka terakhir NIM Anda adalah {hasil}.\")\n"
   ]
  },
  {
   "cell_type": "markdown",
   "metadata": {},
   "source": [
    "## 11. CETAK DAFTAR BELANJA"
   ]
  },
  {
   "cell_type": "code",
   "execution_count": 11,
   "metadata": {},
   "outputs": [
    {
     "name": "stdout",
     "output_type": "stream",
     "text": [
      "Cetakan ke-1:\n",
      "- liptint\n",
      "-  cushion\n",
      "-  maskara\n",
      "-  loose powder\n",
      "\n",
      "Cetakan ke-2:\n",
      "- liptint\n",
      "-  cushion\n",
      "-  maskara\n",
      "-  loose powder\n",
      "\n",
      "Cetakan ke-3:\n",
      "- liptint\n",
      "-  cushion\n",
      "-  maskara\n",
      "-  loose powder\n",
      "\n",
      "Cetakan ke-4:\n",
      "- liptint\n",
      "-  cushion\n",
      "-  maskara\n",
      "-  loose powder\n",
      "\n",
      "Cetakan ke-5:\n",
      "- liptint\n",
      "-  cushion\n",
      "-  maskara\n",
      "-  loose powder\n",
      "\n",
      "Cetakan ke-6:\n",
      "- liptint\n",
      "-  cushion\n",
      "-  maskara\n",
      "-  loose powder\n",
      "\n",
      "Cetakan ke-7:\n",
      "- liptint\n",
      "-  cushion\n",
      "-  maskara\n",
      "-  loose powder\n",
      "\n",
      "Cetakan ke-8:\n",
      "- liptint\n",
      "-  cushion\n",
      "-  maskara\n",
      "-  loose powder\n",
      "\n"
     ]
    }
   ],
   "source": [
    "def cetak_daftar_belanja(daftar_belanja, nim):\n",
    "    # Mengambil 3 angka terakhir dari NIM dan menghitung jumlah cetakan\n",
    "    tiga_angka_terakhir = int(str(nim)[-3:])\n",
    "    jumlah_cetakan = tiga_angka_terakhir % 10\n",
    "    \n",
    "    # Mencetak daftar belanja sesuai jumlah cetakan\n",
    "    for i in range(jumlah_cetakan):\n",
    "        print(f\"Cetakan ke-{i+1}:\")\n",
    "        for item in daftar_belanja:\n",
    "            print(f\"- {item}\")\n",
    "        print()\n",
    "\n",
    "# Input daftar belanja dan NIM\n",
    "daftar_belanja = input(\"Masukkan daftar belanja (pisahkan dengan koma): \").split(\",\")\n",
    "nim = input(\"Masukkan NIM Anda: \")\n",
    "\n",
    "# Mencetak daftar belanja\n",
    "cetak_daftar_belanja(daftar_belanja, nim)"
   ]
  },
  {
   "cell_type": "markdown",
   "metadata": {},
   "source": [
    "## 12. CETAK KELIPATAN BILANGAN\n"
   ]
  },
  {
   "cell_type": "code",
   "execution_count": 12,
   "metadata": {},
   "outputs": [
    {
     "name": "stdout",
     "output_type": "stream",
     "text": [
      "Bilangan kelipatan 3 dari 1 sampai 100:\n",
      "3\n",
      "6\n",
      "9\n",
      "12\n",
      "15\n",
      "18\n",
      "21\n",
      "24\n",
      "27\n",
      "30\n",
      "33\n",
      "36\n",
      "39\n",
      "42\n",
      "45\n",
      "48\n",
      "51\n",
      "54\n",
      "57\n",
      "60\n",
      "63\n",
      "66\n",
      "69\n",
      "72\n",
      "75\n",
      "78\n",
      "81\n",
      "84\n",
      "87\n",
      "90\n",
      "93\n",
      "96\n",
      "99\n"
     ]
    }
   ],
   "source": [
    "def cetak_kelipatan(nim):\n",
    "    # Mengambil 3 angka terakhir dari NIM dan menghitung kelipatan\n",
    "    tiga_angka_terakhir = int(str(nim)[-3:])\n",
    "    kelipatan = tiga_angka_terakhir % 5\n",
    "    \n",
    "    # Jika kelipatan adalah 0, ubah menjadi 5 agar tidak mencetak semua angka\n",
    "    if kelipatan == 0:\n",
    "        kelipatan = 5\n",
    "    \n",
    "    # Mencetak angka kelipatan dari 1 sampai 100\n",
    "    print(f\"Bilangan kelipatan {kelipatan} dari 1 sampai 100:\")\n",
    "    for i in range(kelipatan, 101, kelipatan):\n",
    "        print(i)\n",
    "\n",
    "# Input NIM\n",
    "nim = input(\"Masukkan NIM Anda: \")\n",
    "\n",
    "# Mencetak bilangan kelipatan\n",
    "cetak_kelipatan(nim)\n"
   ]
  },
  {
   "cell_type": "markdown",
   "metadata": {},
   "source": [
    "## 13. CETAK TABEL PERKALIAN"
   ]
  },
  {
   "cell_type": "code",
   "execution_count": 14,
   "metadata": {},
   "outputs": [
    {
     "name": "stdout",
     "output_type": "stream",
     "text": [
      "Tabel perkalian 1:\n",
      "1 x 1 = 1\n",
      "1 x 2 = 2\n",
      "1 x 3 = 3\n",
      "1 x 4 = 4\n",
      "1 x 5 = 5\n",
      "1 x 6 = 6\n",
      "1 x 7 = 7\n",
      "1 x 8 = 8\n",
      "1 x 9 = 9\n",
      "1 x 10 = 10\n"
     ]
    }
   ],
   "source": [
    "def cetak_tabel_perkalian(nim):\n",
    "    # Mengambil 3 angka terakhir dari NIM dan menghitung angka perkalian\n",
    "    tiga_angka_terakhir = int(str(nim)[-3:])\n",
    "    angka_perkalian = tiga_angka_terakhir % 9\n",
    "    \n",
    "    # Jika hasil modulus adalah 0, gunakan angka 9 sebagai default\n",
    "    if angka_perkalian == 0:\n",
    "        angka_perkalian = 9\n",
    "    \n",
    "    # Mencetak tabel perkalian\n",
    "    print(f\"Tabel perkalian {angka_perkalian}:\")\n",
    "    for i in range(1, 11):\n",
    "        print(f\"{angka_perkalian} x {i} = {angka_perkalian * i}\")\n",
    "\n",
    "# Input NIM\n",
    "nim = input(\"Masukkan NIM Anda: \")\n",
    "\n",
    "# Mencetak tabel perkalian\n",
    "cetak_tabel_perkalian(nim)\n"
   ]
  },
  {
   "cell_type": "markdown",
   "metadata": {},
   "source": [
    "## 14. CETAK POLA "
   ]
  },
  {
   "cell_type": "code",
   "execution_count": 15,
   "metadata": {},
   "outputs": [
    {
     "name": "stdout",
     "output_type": "stream",
     "text": [
      "Pola bintang segitiga dengan tinggi 7:\n",
      "*\n",
      "**\n",
      "***\n",
      "****\n",
      "*****\n",
      "******\n",
      "*******\n"
     ]
    }
   ],
   "source": [
    "def cetak_pola_bintang(nim):\n",
    "    # Mengambil 3 angka terakhir dari NIM dan menghitung tinggi segitiga\n",
    "    tiga_angka_terakhir = int(str(nim)[-3:])\n",
    "    tinggi = tiga_angka_terakhir % 7\n",
    "    \n",
    "    # Jika hasil modulus adalah 0, gunakan tinggi 7 sebagai default\n",
    "    if tinggi == 0:\n",
    "        tinggi = 7\n",
    "    \n",
    "    # Mencetak pola bintang segitiga siku-siku\n",
    "    print(f\"Pola bintang segitiga dengan tinggi {tinggi}:\")\n",
    "    for i in range(1, tinggi + 1):\n",
    "        print(\"*\" * i)\n",
    "\n",
    "# Input NIM\n",
    "nim = input(\"Masukkan NIM Anda: \")\n",
    "\n",
    "# Mencetak pola bintang\n",
    "cetak_pola_bintang(nim)\n"
   ]
  },
  {
   "cell_type": "markdown",
   "metadata": {},
   "source": [
    "## 15. CETAK BILANGAN PRIMA"
   ]
  },
  {
   "cell_type": "code",
   "execution_count": 16,
   "metadata": {},
   "outputs": [
    {
     "name": "stdout",
     "output_type": "stream",
     "text": [
      "Bilangan prima dari 1 sampai 28:\n",
      "2 3 5 7 11 13 17 19 23 \n"
     ]
    }
   ],
   "source": [
    "def cetak_bilangan_prima(nim):\n",
    "    # Mengambil 3 angka terakhir dari NIM sebagai batas atas\n",
    "    batas = int(str(nim)[-3:])\n",
    "    \n",
    "    # Fungsi untuk mengecek bilangan prima\n",
    "    def is_prima(n):\n",
    "        if n < 2:\n",
    "            return False\n",
    "        for i in range(2, int(n ** 0.5) + 1):\n",
    "            if n % i == 0:\n",
    "                return False\n",
    "        return True\n",
    "    \n",
    "    # Mencetak bilangan prima dari 1 sampai batas atas\n",
    "    print(f\"Bilangan prima dari 1 sampai {batas}:\")\n",
    "    for num in range(1, batas + 1):\n",
    "        if is_prima(num):\n",
    "            print(num, end=\" \")\n",
    "    print()\n",
    "\n",
    "# Input NIM\n",
    "nim = input(\"Masukkan NIM Anda: \")\n",
    "\n",
    "# Mencetak bilangan prima\n",
    "cetak_bilangan_prima(nim)\n"
   ]
  },
  {
   "cell_type": "markdown",
   "metadata": {},
   "source": [
    "## 16. FIBONACCI NIM"
   ]
  },
  {
   "cell_type": "code",
   "execution_count": 17,
   "metadata": {},
   "outputs": [
    {
     "name": "stdout",
     "output_type": "stream",
     "text": [
      "Deret Fibonacci: [0, 1, 1, 2, 3, 5, 8, 13]\n"
     ]
    }
   ],
   "source": [
    "def fibonacci(n):\n",
    "    fib_series = [0, 1]\n",
    "    for _ in range(n - 2):\n",
    "        fib_series.append(fib_series[-1] + fib_series[-2])\n",
    "    return fib_series[:n]\n",
    "\n",
    "# Input 3 angka terakhir NIM\n",
    "nim_terakhir = input(\"Masukkan 3 angka terakhir NIM: \")\n",
    "try:\n",
    "    angka_terakhir = int(nim_terakhir) % 10  # Mengambil digit terakhir dari 3 angka terakhir NIM\n",
    "    if angka_terakhir == 0:\n",
    "        print(\"Hasil mod 10 adalah 0, sehingga jumlah bilangan Fibonacci yang dicetak adalah 10.\")\n",
    "        angka_terakhir = 10  # Jika hasil mod adalah 0, cetak 10 angka Fibonacci\n",
    "    print(\"Deret Fibonacci:\", fibonacci(angka_terakhir))\n",
    "except ValueError:\n",
    "    print(\"Harap masukkan angka yang valid.\")\n"
   ]
  },
  {
   "cell_type": "markdown",
   "metadata": {},
   "source": [
    "## 17. CETAK KELIPATAN "
   ]
  },
  {
   "cell_type": "code",
   "execution_count": 18,
   "metadata": {},
   "outputs": [
    {
     "name": "stdout",
     "output_type": "stream",
     "text": [
      "Bilangan kelipatan 4 dari 1 sampai 100: [4, 8, 12, 16, 20, 24, 28, 32, 36, 40, 44, 48, 52, 56, 60, 64, 68, 72, 76, 80, 84, 88, 92, 96, 100]\n"
     ]
    }
   ],
   "source": [
    "def cetak_kelipatan(n):\n",
    "    kelipatan = [i for i in range(1, 101) if i % n == 0]\n",
    "    return kelipatan\n",
    "\n",
    "# Input 3 angka terakhir NIM\n",
    "nim_terakhir = input(\"Masukkan 3 angka terakhir NIM: \")\n",
    "try:\n",
    "    angka_terakhir = int(nim_terakhir) % 6  # Mengambil hasil mod 6\n",
    "    if angka_terakhir == 0:\n",
    "        print(\"Hasil mod 6 adalah 0, sehingga kelipatan yang digunakan adalah 6.\")\n",
    "        angka_terakhir = 6  # Jika hasil mod adalah 0, gunakan 6 sebagai kelipatan\n",
    "    print(f\"Bilangan kelipatan {angka_terakhir} dari 1 sampai 100:\", cetak_kelipatan(angka_terakhir))\n",
    "except ValueError:\n",
    "    print(\"Harap masukkan angka yang valid.\")\n"
   ]
  },
  {
   "cell_type": "markdown",
   "metadata": {},
   "source": [
    "## 18. BILANGAN GANJIL"
   ]
  },
  {
   "cell_type": "code",
   "execution_count": 19,
   "metadata": {},
   "outputs": [
    {
     "name": "stdout",
     "output_type": "stream",
     "text": [
      "Bilangan ganjil dari 1 sampai 28: [1, 3, 5, 7, 9, 11, 13, 15, 17, 19, 21, 23, 25, 27]\n"
     ]
    }
   ],
   "source": [
    "def cetak_bilangan_ganjil(n):\n",
    "    bilangan_ganjil = [i for i in range(1, n + 1, 2)]\n",
    "    return bilangan_ganjil\n",
    "\n",
    "# Input 3 angka terakhir NIM\n",
    "nim_terakhir = input(\"Masukkan 3 angka terakhir NIM: \")\n",
    "try:\n",
    "    angka_terakhir = int(nim_terakhir)  # Mengubah input menjadi integer\n",
    "    print(f\"Bilangan ganjil dari 1 sampai {angka_terakhir}:\", cetak_bilangan_ganjil(angka_terakhir))\n",
    "except ValueError:\n",
    "    print(\"Harap masukkan angka yang valid.\")"
   ]
  },
  {
   "cell_type": "markdown",
   "metadata": {},
   "source": [
    "## 19. FAKTORIAL"
   ]
  },
  {
   "cell_type": "code",
   "execution_count": 20,
   "metadata": {},
   "outputs": [
    {
     "name": "stdout",
     "output_type": "stream",
     "text": [
      "Faktorial dari 4 adalah: 24\n"
     ]
    }
   ],
   "source": [
    "import math\n",
    "\n",
    "def hitung_faktorial(n):\n",
    "    return math.factorial(n)\n",
    "\n",
    "# Input 3 angka terakhir NIM\n",
    "nim_terakhir = input(\"Masukkan 3 angka terakhir NIM: \")\n",
    "try:\n",
    "    angka_terakhir = int(nim_terakhir) % 8  # Mengambil hasil mod 8\n",
    "    if angka_terakhir == 0:\n",
    "        print(\"Hasil mod 8 adalah 0, sehingga faktorial yang dihitung adalah 1 (0! = 1).\")\n",
    "        angka_terakhir = 1  # 0! = 1, jadi gunakan 1 sebagai angka faktorial\n",
    "    print(f\"Faktorial dari {angka_terakhir} adalah:\", hitung_faktorial(angka_terakhir))\n",
    "except ValueError:\n",
    "    print(\"Harap masukkan angka yang valid.\")\n"
   ]
  },
  {
   "cell_type": "markdown",
   "metadata": {},
   "source": [
    "## 20. CETAK PESAN"
   ]
  },
  {
   "cell_type": "code",
   "execution_count": 21,
   "metadata": {},
   "outputs": [
    {
     "name": "stdout",
     "output_type": "stream",
     "text": [
      "Terima Kasih\n",
      "Terima Kasih\n",
      "Terima Kasih\n"
     ]
    }
   ],
   "source": [
    "def cetak_pesan(n):\n",
    "    for _ in range(n):\n",
    "        print(\"Terima Kasih\")\n",
    "\n",
    "# Input 3 angka terakhir NIM\n",
    "nim_terakhir = input(\"Masukkan 3 angka terakhir NIM: \")\n",
    "try:\n",
    "    angka_terakhir = int(nim_terakhir) % 5  # Mengambil hasil mod 5\n",
    "    if angka_terakhir == 0:\n",
    "        print(\"Hasil mod 5 adalah 0, sehingga pesan akan dicetak 5 kali.\")\n",
    "        angka_terakhir = 5  # Jika hasil mod adalah 0, cetak 5 kali\n",
    "    cetak_pesan(angka_terakhir)\n",
    "except ValueError:\n",
    "    print(\"Harap masukkan angka yang valid.\")\n"
   ]
  }
 ],
 "metadata": {
  "kernelspec": {
   "display_name": "Python 3",
   "language": "python",
   "name": "python3"
  },
  "language_info": {
   "codemirror_mode": {
    "name": "ipython",
    "version": 3
   },
   "file_extension": ".py",
   "mimetype": "text/x-python",
   "name": "python",
   "nbconvert_exporter": "python",
   "pygments_lexer": "ipython3",
   "version": "3.13.2"
  }
 },
 "nbformat": 4,
 "nbformat_minor": 2
}
